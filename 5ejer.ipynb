{
 "cells": [
  {
   "cell_type": "code",
   "execution_count": 24,
   "id": "caae4341",
   "metadata": {},
   "outputs": [
    {
     "name": "stdout",
     "output_type": "stream",
     "text": [
      "2 numero(s) coincide(n) su posicion en la lista.\n"
     ]
    }
   ],
   "source": [
    "list_example = [3, 4, 2, 0, 2, 3, 6]\n",
    "count = 0\n",
    "\n",
    "for i in range(len(list_example)):\n",
    "    if list_example[i] == i:\n",
    "        count += 1\n",
    "\n",
    "if count > 0:\n",
    "    print(\"{} numero(s) coincide(n) su posicion en la lista.\".format(count))\n",
    "else:\n",
    "    print(\"No hay numeros que coinciden su posicion en la lista.\")\n"
   ]
  },
  {
   "cell_type": "code",
   "execution_count": null,
   "id": "520df3e3",
   "metadata": {},
   "outputs": [],
   "source": []
  }
 ],
 "metadata": {
  "kernelspec": {
   "display_name": "Python 3 (ipykernel)",
   "language": "python",
   "name": "python3"
  },
  "language_info": {
   "codemirror_mode": {
    "name": "ipython",
    "version": 3
   },
   "file_extension": ".py",
   "mimetype": "text/x-python",
   "name": "python",
   "nbconvert_exporter": "python",
   "pygments_lexer": "ipython3",
   "version": "3.9.13"
  }
 },
 "nbformat": 4,
 "nbformat_minor": 5
}
