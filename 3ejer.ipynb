{
 "cells": [
  {
   "cell_type": "code",
   "execution_count": 22,
   "id": "caae4341",
   "metadata": {},
   "outputs": [
    {
     "name": "stdout",
     "output_type": "stream",
     "text": [
      "Cual es tu nombre? Z\n",
      "Escribe un numero: 3\n",
      "Z Z Z \n"
     ]
    }
   ],
   "source": [
    "name = input(\"Cual es tu nombre? \")\n",
    "num = int(input(\"Escribe un numero: \"))\n",
    "\n",
    "\n",
    "if num == 0:\n",
    "    print(\"Error: El numero no puede ser 0.\")\n",
    "else:\n",
    "    print(\"{} \".format(name)*num)\n"
   ]
  },
  {
   "cell_type": "code",
   "execution_count": null,
   "id": "520df3e3",
   "metadata": {},
   "outputs": [],
   "source": []
  }
 ],
 "metadata": {
  "kernelspec": {
   "display_name": "Python 3 (ipykernel)",
   "language": "python",
   "name": "python3"
  },
  "language_info": {
   "codemirror_mode": {
    "name": "ipython",
    "version": 3
   },
   "file_extension": ".py",
   "mimetype": "text/x-python",
   "name": "python",
   "nbconvert_exporter": "python",
   "pygments_lexer": "ipython3",
   "version": "3.9.13"
  }
 },
 "nbformat": 4,
 "nbformat_minor": 5
}
