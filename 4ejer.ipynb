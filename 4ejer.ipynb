{
 "cells": [
  {
   "cell_type": "code",
   "execution_count": 23,
   "id": "caae4341",
   "metadata": {},
   "outputs": [
    {
     "name": "stdout",
     "output_type": "stream",
     "text": [
      "La lista es simetrica.\n",
      "La lista tiene 5 elementos.\n"
     ]
    }
   ],
   "source": [
    "list_example = [1, 2, 3, 2, 1]\n",
    "\n",
    "if list_example == list_example[::-1]:\n",
    "    print(\"La lista es simetrica.\")\n",
    "    print(\"La lista tiene {} elementos.\".format(len(list_example)))\n",
    "else:\n",
    "    print(\"La lista no es simetrica.\")\n"
   ]
  },
  {
   "cell_type": "code",
   "execution_count": null,
   "id": "520df3e3",
   "metadata": {},
   "outputs": [],
   "source": []
  }
 ],
 "metadata": {
  "kernelspec": {
   "display_name": "Python 3 (ipykernel)",
   "language": "python",
   "name": "python3"
  },
  "language_info": {
   "codemirror_mode": {
    "name": "ipython",
    "version": 3
   },
   "file_extension": ".py",
   "mimetype": "text/x-python",
   "name": "python",
   "nbconvert_exporter": "python",
   "pygments_lexer": "ipython3",
   "version": "3.9.13"
  }
 },
 "nbformat": 4,
 "nbformat_minor": 5
}
