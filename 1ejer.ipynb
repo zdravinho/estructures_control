{
 "cells": [
  {
   "cell_type": "code",
   "execution_count": 1,
   "id": "caae4341",
   "metadata": {},
   "outputs": [
    {
     "name": "stdout",
     "output_type": "stream",
     "text": [
      "Suspès\n",
      "Aprovat\n",
      "Notable\n",
      "Excel·lent\n"
     ]
    }
   ],
   "source": [
    "def classify_grade(grade):\n",
    "    if grade < 5:\n",
    "        return \"Suspès\"\n",
    "    elif grade < 7:\n",
    "        return \"Aprovat\"\n",
    "    elif grade < 9:\n",
    "        return \"Notable\"\n",
    "    else:\n",
    "        return \"Excellent\"\n",
    "    \n",
    "# test the function\n",
    "print(classify_grade(3)) # Output: Suspès\n",
    "print(classify_grade(6)) # Output: Aprovat\n",
    "print(classify_grade(8)) # Output: Notable\n",
    "print(classify_grade(9.5)) # Output: Excellent\n"
   ]
  },
  {
   "cell_type": "code",
   "execution_count": null,
   "id": "e4c43f6f",
   "metadata": {},
   "outputs": [],
   "source": []
  }
 ],
 "metadata": {
  "kernelspec": {
   "display_name": "Python 3 (ipykernel)",
   "language": "python",
   "name": "python3"
  },
  "language_info": {
   "codemirror_mode": {
    "name": "ipython",
    "version": 3
   },
   "file_extension": ".py",
   "mimetype": "text/x-python",
   "name": "python",
   "nbconvert_exporter": "python",
   "pygments_lexer": "ipython3",
   "version": "3.9.13"
  }
 },
 "nbformat": 4,
 "nbformat_minor": 5
}
