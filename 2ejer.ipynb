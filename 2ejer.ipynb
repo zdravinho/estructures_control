{
 "cells": [
  {
   "cell_type": "code",
   "execution_count": 3,
   "id": "caae4341",
   "metadata": {},
   "outputs": [
    {
     "name": "stdout",
     "output_type": "stream",
     "text": [
      "Poner el primer numero: 1\n",
      "Poner el segundo numero: 0\n",
      "El primer numero es mayor que el segundo.\n"
     ]
    }
   ],
   "source": [
    "# Poner los numeros del usario\n",
    "num1 = float(input(\"Poner el primer numero: \"))\n",
    "num2 = float(input(\"Poner el segundo numero: \"))\n",
    "\n",
    "# Compare los dos numeros\n",
    "if num1 > num2:\n",
    "    print(\"El primer numero es mayor que el segundo.\")\n",
    "elif num1 < num2:\n",
    "    print(\"El segundo numero es mayor que el primero.\")\n",
    "else:\n",
    "    print(\"Los dos numeros son iguales.\")\n"
   ]
  },
  {
   "cell_type": "code",
   "execution_count": null,
   "id": "e923fbe7",
   "metadata": {},
   "outputs": [],
   "source": []
  }
 ],
 "metadata": {
  "kernelspec": {
   "display_name": "Python 3 (ipykernel)",
   "language": "python",
   "name": "python3"
  },
  "language_info": {
   "codemirror_mode": {
    "name": "ipython",
    "version": 3
   },
   "file_extension": ".py",
   "mimetype": "text/x-python",
   "name": "python",
   "nbconvert_exporter": "python",
   "pygments_lexer": "ipython3",
   "version": "3.9.13"
  }
 },
 "nbformat": 4,
 "nbformat_minor": 5
}
